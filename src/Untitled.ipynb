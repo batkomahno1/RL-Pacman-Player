{
 "cells": [
  {
   "cell_type": "code",
   "execution_count": 1,
   "metadata": {},
   "outputs": [],
   "source": [
    "import numpy as np"
   ]
  },
  {
   "cell_type": "code",
   "execution_count": 10,
   "metadata": {},
   "outputs": [
    {
     "data": {
      "text/plain": [
       "77"
      ]
     },
     "execution_count": 10,
     "metadata": {},
     "output_type": "execute_result"
    }
   ],
   "source": [
    "m = np.arange(75,80)\n",
    "m.min()+(m.max()-m.min())//2"
   ]
  },
  {
   "cell_type": "code",
   "execution_count": 12,
   "metadata": {},
   "outputs": [],
   "source": [
    "pellets = np.load('utils/pellets.npy')"
   ]
  },
  {
   "cell_type": "code",
   "execution_count": 18,
   "metadata": {},
   "outputs": [
    {
     "data": {
      "text/plain": [
       "(array([0]), array([2]))"
      ]
     },
     "execution_count": 18,
     "metadata": {},
     "output_type": "execute_result"
    }
   ],
   "source": [
    "np.where(pellets[...,0]>0)"
   ]
  },
  {
   "cell_type": "code",
   "execution_count": 22,
   "metadata": {},
   "outputs": [],
   "source": [
    "pacman = np.load('output.npy')[...,0]"
   ]
  },
  {
   "cell_type": "code",
   "execution_count": 32,
   "metadata": {},
   "outputs": [],
   "source": [
    "def centroid(x, y):\n",
    "    if x.shape[0]==0: return np.array([])\n",
    "    assert x.shape[0] == y.shape[0]\n",
    "    mid = lambda x: x.min()+(x.max() - x.min())//2\n",
    "    return np.array([mid(x), mid(y)])"
   ]
  },
  {
   "cell_type": "code",
   "execution_count": 33,
   "metadata": {},
   "outputs": [
    {
     "data": {
      "text/plain": [
       "array([24, 20])"
      ]
     },
     "execution_count": 33,
     "metadata": {},
     "output_type": "execute_result"
    }
   ],
   "source": [
    "centroid(*np.where(pacman>0))"
   ]
  },
  {
   "cell_type": "code",
   "execution_count": 34,
   "metadata": {},
   "outputs": [
    {
     "data": {
      "text/plain": [
       "(array([24, 25]), array([20, 20]))"
      ]
     },
     "execution_count": 34,
     "metadata": {},
     "output_type": "execute_result"
    }
   ],
   "source": [
    "np.where(pacman>0)"
   ]
  },
  {
   "cell_type": "code",
   "execution_count": 91,
   "metadata": {},
   "outputs": [
    {
     "name": "stdout",
     "output_type": "stream",
     "text": [
      "p (array([24, 25]), array([20, 20])) (2,)\n",
      "c  [24 20]\n",
      "p (array([12, 12, 13, 13]), array([19, 20, 19, 20])) (4,)\n",
      "c  [12 19]\n",
      "p (array([], dtype=int64), array([], dtype=int64)) (0,)\n",
      "c  []\n",
      "p (array([], dtype=int64), array([], dtype=int64)) (0,)\n",
      "c  []\n"
     ]
    }
   ],
   "source": [
    "output = np.load('output.npy')\n",
    "p = centroid(*np.where(output[...,0]>0))\n",
    "for i in range(0,4): \n",
    "    print('p', np.where(output[...,i]>0), np.where(output[...,i]>0)[0].shape)\n",
    "    c = centroid(*np.where(output[...,i]>0))\n",
    "    print('c ',c)\n",
    "#     print('n ', np.linalg.norm(p-c))"
   ]
  },
  {
   "cell_type": "code",
   "execution_count": 92,
   "metadata": {},
   "outputs": [
    {
     "data": {
      "text/plain": [
       "(array([24, 25]), array([20, 20]))"
      ]
     },
     "execution_count": 92,
     "metadata": {},
     "output_type": "execute_result"
    }
   ],
   "source": [
    "pacman = np.where(output[...,0]>0)\n",
    "pacman"
   ]
  },
  {
   "cell_type": "code",
   "execution_count": 93,
   "metadata": {},
   "outputs": [],
   "source": [
    "# for i in range(9,152):\n",
    "#     print(np.where(output[...,i]>0))"
   ]
  },
  {
   "cell_type": "code",
   "execution_count": 94,
   "metadata": {},
   "outputs": [
    {
     "data": {
      "text/plain": [
       "(array([0]), array([6]))"
      ]
     },
     "execution_count": 94,
     "metadata": {},
     "output_type": "execute_result"
    }
   ],
   "source": [
    "np.where(pellets[..., 2] == 255)"
   ]
  },
  {
   "cell_type": "code",
   "execution_count": 96,
   "metadata": {},
   "outputs": [
    {
     "data": {
      "image/png": "[encoded data removed]",
      "text/plain": [
       "<Figure size 432x288 with 1 Axes>"
      ]
     },
     "metadata": {
      "needs_background": "light"
     },
     "output_type": "display_data"
    }
   ],
   "source": [
    "pellets = np.load('utils/pellets.npy')\n",
    "dummy = np.zeros((40,40))\n",
    "for i in range(pellets.shape[-1]):\n",
    "    dummy[np.where(pellets[..., i]>0)] = 255\n",
    "import matplotlib.pyplot as plt\n",
    "plt.imshow(dummy)\n",
    "plt.show()"
   ]
  },
  {
   "cell_type": "code",
   "execution_count": 2,
   "metadata": {},
   "outputs": [
    {
     "data": {
      "image/png": "[encoded data removed]",
      "text/plain": [
       "<Figure size 432x288 with 1 Axes>"
      ]
     },
     "metadata": {
      "needs_background": "light"
     },
     "output_type": "display_data"
    }
   ],
   "source": [
    "import numpy as np\n",
    "output = np.load('output.npy')\n",
    "dummy = np.zeros((40,40))\n",
    "for i in range(9, output.shape[-1]):\n",
    "    dummy[np.where(output[..., i]>0)] = 255\n",
    "import matplotlib.pyplot as plt\n",
    "plt.imshow(dummy)\n",
    "plt.show()"
   ]
  },
  {
   "cell_type": "code",
   "execution_count": null,
   "metadata": {},
   "outputs": [],
   "source": []
  }
 ],
 "metadata": {
  "kernelspec": {
   "display_name": "Python 3",
   "language": "python",
   "name": "python3"
  },
  "language_info": {
   "codemirror_mode": {
    "name": "ipython",
    "version": 3
   },
   "file_extension": ".py",
   "mimetype": "text/x-python",
   "name": "python",
   "nbconvert_exporter": "python",
   "pygments_lexer": "ipython3",
   "version": "3.8.3"
  }
 },
 "nbformat": 4,
 "nbformat_minor": 4
}
