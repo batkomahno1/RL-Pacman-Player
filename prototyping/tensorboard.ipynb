{
 "cells": [
  {
   "cell_type": "code",
   "execution_count": 1,
   "metadata": {},
   "outputs": [
    {
     "name": "stdout",
     "output_type": "stream",
     "text": [
      "/bin/bash: line 0: kill: (7874) - No such process\n"
     ]
    },
    {
     "data": {
      "text/plain": [
       "Reusing TensorBoard on port 6006 (pid 6904), started 1 day, 13:50:46 ago. (Use '!kill 6904' to kill it.)"
      ]
     },
     "metadata": {},
     "output_type": "display_data"
    },
    {
     "data": {
      "text/html": [
       "\n",
       "      <iframe id=\"tensorboard-frame-23b41ec658c88f55\" width=\"100%\" height=\"800\" frameborder=\"0\">\n",
       "      </iframe>\n",
       "      <script>\n",
       "        (function() {\n",
       "          const frame = document.getElementById(\"tensorboard-frame-23b41ec658c88f55\");\n",
       "          const url = new URL(\"/\", window.location);\n",
       "          const port = 6006;\n",
       "          if (port) {\n",
       "            url.port = port;\n",
       "          }\n",
       "          frame.src = url;\n",
       "        })();\n",
       "      </script>\n",
       "    "
      ],
      "text/plain": [
       "<IPython.core.display.HTML object>"
      ]
     },
     "metadata": {},
     "output_type": "display_data"
    }
   ],
   "source": [
    "import tensorboard\n",
    "!kill 7874\n",
    "%load_ext tensorboard\n",
    "\n",
    "%tensorboard --logdir {'/home/stierlitz/CP8319/cps824_project/cps824_project/src/results/hydra/'}"
   ]
  },
  {
   "cell_type": "code",
   "execution_count": 38,
   "metadata": {},
   "outputs": [
    {
     "data": {
      "text/html": [
       "<div>\n",
       "<style scoped>\n",
       "    .dataframe tbody tr th:only-of-type {\n",
       "        vertical-align: middle;\n",
       "    }\n",
       "\n",
       "    .dataframe tbody tr th {\n",
       "        vertical-align: top;\n",
       "    }\n",
       "\n",
       "    .dataframe thead th {\n",
       "        text-align: right;\n",
       "    }\n",
       "</style>\n",
       "<table border=\"1\" class=\"dataframe\">\n",
       "  <thead>\n",
       "    <tr style=\"text-align: right;\">\n",
       "      <th></th>\n",
       "      <th>Wall time</th>\n",
       "      <th>Step</th>\n",
       "      <th>Value</th>\n",
       "    </tr>\n",
       "  </thead>\n",
       "  <tbody>\n",
       "    <tr>\n",
       "      <th>0</th>\n",
       "      <td>1.619291e+09</td>\n",
       "      <td>50600</td>\n",
       "      <td>316.0</td>\n",
       "    </tr>\n",
       "    <tr>\n",
       "      <th>1</th>\n",
       "      <td>1.619291e+09</td>\n",
       "      <td>51900</td>\n",
       "      <td>410.0</td>\n",
       "    </tr>\n",
       "    <tr>\n",
       "      <th>2</th>\n",
       "      <td>1.619291e+09</td>\n",
       "      <td>52500</td>\n",
       "      <td>384.0</td>\n",
       "    </tr>\n",
       "    <tr>\n",
       "      <th>3</th>\n",
       "      <td>1.619291e+09</td>\n",
       "      <td>54100</td>\n",
       "      <td>664.0</td>\n",
       "    </tr>\n",
       "    <tr>\n",
       "      <th>4</th>\n",
       "      <td>1.619292e+09</td>\n",
       "      <td>54300</td>\n",
       "      <td>460.0</td>\n",
       "    </tr>\n",
       "    <tr>\n",
       "      <th>...</th>\n",
       "      <td>...</td>\n",
       "      <td>...</td>\n",
       "      <td>...</td>\n",
       "    </tr>\n",
       "    <tr>\n",
       "      <th>995</th>\n",
       "      <td>1.619424e+09</td>\n",
       "      <td>899900</td>\n",
       "      <td>448.0</td>\n",
       "    </tr>\n",
       "    <tr>\n",
       "      <th>996</th>\n",
       "      <td>1.619424e+09</td>\n",
       "      <td>900400</td>\n",
       "      <td>470.0</td>\n",
       "    </tr>\n",
       "    <tr>\n",
       "      <th>997</th>\n",
       "      <td>1.619424e+09</td>\n",
       "      <td>900800</td>\n",
       "      <td>434.0</td>\n",
       "    </tr>\n",
       "    <tr>\n",
       "      <th>998</th>\n",
       "      <td>1.619424e+09</td>\n",
       "      <td>900900</td>\n",
       "      <td>434.0</td>\n",
       "    </tr>\n",
       "    <tr>\n",
       "      <th>999</th>\n",
       "      <td>1.619424e+09</td>\n",
       "      <td>901100</td>\n",
       "      <td>494.0</td>\n",
       "    </tr>\n",
       "  </tbody>\n",
       "</table>\n",
       "<p>1000 rows × 3 columns</p>\n",
       "</div>"
      ],
      "text/plain": [
       "        Wall time    Step  Value\n",
       "0    1.619291e+09   50600  316.0\n",
       "1    1.619291e+09   51900  410.0\n",
       "2    1.619291e+09   52500  384.0\n",
       "3    1.619291e+09   54100  664.0\n",
       "4    1.619292e+09   54300  460.0\n",
       "..            ...     ...    ...\n",
       "995  1.619424e+09  899900  448.0\n",
       "996  1.619424e+09  900400  470.0\n",
       "997  1.619424e+09  900800  434.0\n",
       "998  1.619424e+09  900900  434.0\n",
       "999  1.619424e+09  901100  494.0\n",
       "\n",
       "[1000 rows x 3 columns]"
      ]
     },
     "execution_count": 38,
     "metadata": {},
     "output_type": "execute_result"
    }
   ],
   "source": [
    "import pandas as pd\n",
    "data = pd.read_csv( '/home/stierlitz/CP8319/cps824_project/cps824_project/src/results/hydra/new/run-new-tag-Avg_Reward.csv')\n",
    "data"
   ]
  },
  {
   "cell_type": "code",
   "execution_count": 45,
   "metadata": {},
   "outputs": [
    {
     "data": {
      "image/png": "[encoded data removed]",
      "text/plain": [
       "<Figure size 720x360 with 1 Axes>"
      ]
     },
     "metadata": {
      "needs_background": "light"
     },
     "output_type": "display_data"
    }
   ],
   "source": [
    "import matplotlib.pyplot as plt\n",
    "plt.figure(figsize=(10,5))\n",
    "data['Value'].rolling(window=100).mean().dropna().plot()\n",
    "plt.show()"
   ]
  },
  {
   "cell_type": "code",
   "execution_count": null,
   "metadata": {},
   "outputs": [],
   "source": []
  },
  {
   "cell_type": "code",
   "execution_count": 3,
   "metadata": {},
   "outputs": [
    {
     "name": "stdout",
     "output_type": "stream",
     "text": [
      "/bin/bash: line 0: kill: (27585) - No such process\n",
      "The tensorboard extension is already loaded. To reload it, use:\n",
      "  %reload_ext tensorboard\n"
     ]
    },
    {
     "data": {
      "text/plain": [
       "Reusing TensorBoard on port 6007 (pid 7252), started 0:00:59 ago. (Use '!kill 7252' to kill it.)"
      ]
     },
     "metadata": {},
     "output_type": "display_data"
    },
    {
     "data": {
      "text/html": [
       "\n",
       "      <iframe id=\"tensorboard-frame-87256830689c6bed\" width=\"100%\" height=\"800\" frameborder=\"0\">\n",
       "      </iframe>\n",
       "      <script>\n",
       "        (function() {\n",
       "          const frame = document.getElementById(\"tensorboard-frame-87256830689c6bed\");\n",
       "          const url = new URL(\"/\", window.location);\n",
       "          const port = 6007;\n",
       "          if (port) {\n",
       "            url.port = port;\n",
       "          }\n",
       "          frame.src = url;\n",
       "        })();\n",
       "      </script>\n",
       "    "
      ],
      "text/plain": [
       "<IPython.core.display.HTML object>"
      ]
     },
     "metadata": {},
     "output_type": "display_data"
    }
   ],
   "source": [
    "!kill 27585\n",
    "import tensorboard\n",
    "\n",
    "%load_ext tensorboard\n",
    "%tensorboard --logdir {'/home/stierlitz/CP8319/tensorboard_temp'}"
   ]
  },
  {
   "cell_type": "code",
   "execution_count": null,
   "metadata": {},
   "outputs": [],
   "source": [
    "1e5*((18*60)/1e4)/3600"
   ]
  },
  {
   "cell_type": "code",
   "execution_count": null,
   "metadata": {},
   "outputs": [],
   "source": [
    "import pandas as pd\n",
    "\n",
    "deepmind = pd.read_csv('/home/stierlitz/CP8319/Final Report/run-deepmind-tag-Avg_Reward.csv')\n",
    "hydra = pd.read_csv('/home/stierlitz/CP8319/Final Report/run-tf_winning_run-tag-Avg_Reward.csv')\n",
    "hydra.head()\n",
    "\n",
    "\n",
    "import matplotlib.pyplot as plt\n",
    "plt.figure(figsize=(20,10))\n",
    "plt.plot(deepmind['Step'], deepmind['Value'], label='DeepMind')\n",
    "plt.plot(hydra['Step'], hydra['Value'], label='HYDRA')\n",
    "plt.legend()\n",
    "# plt.savefig('500k.svg')\n",
    "\n",
    "plt.show()\n",
    "\n",
    "deepmind = pd.read_csv('/home/stierlitz/CP8319/Final Report/run-deepmind_3m-tag-Avg_Reward.csv')\n",
    "hydra = pd.read_csv('/home/stierlitz/CP8319/Final Report/run-hydra_1m-tag-Avg_Reward.csv')\n",
    "n=250\n",
    "deepmind = deepmind.iloc[0:n,:]\n",
    "# hydra  = hydra.iloc[0:n,:]\n",
    "import matplotlib.pyplot as plt\n",
    "plt.figure(figsize=(20,10))\n",
    "plt.plot(deepmind['Step'], deepmind['Value'], label='DeepMind')\n",
    "plt.plot(hydra['Step'], hydra['Value'], label='HYDRA')\n",
    "plt.legend()\n",
    "# plt.savefig('1m.svg')\n",
    "\n",
    "plt.show()\n",
    "\n",
    "deepmind = pd.read_csv('/home/stierlitz/CP8319/Final Report/run-deepmind_3m-tag-Avg_Reward.csv')\n",
    "hydra = pd.read_csv('/home/stierlitz/CP8319/Final Report/run-hydra_1m-tag-Avg_Reward.csv')\n",
    "n=-1\n",
    "deepmind = deepmind.iloc[0:n,:]\n",
    "# hydra  = hydra.iloc[0:n,:]\n",
    "import matplotlib.pyplot as plt\n",
    "plt.figure(figsize=(20,10))\n",
    "plt.plot(deepmind['Step'], deepmind['Value'], label='DeepMind')\n",
    "plt.plot(hydra['Step'], hydra['Value'], label='HYDRA')\n",
    "plt.legend()\n",
    "# plt.savefig('3m.svg')\n",
    "\n",
    "plt.show()"
   ]
  },
  {
   "cell_type": "code",
   "execution_count": null,
   "metadata": {},
   "outputs": [],
   "source": []
  }
 ],
 "metadata": {
  "kernelspec": {
   "display_name": "Python 3",
   "language": "python",
   "name": "python3"
  },
  "language_info": {
   "codemirror_mode": {
    "name": "ipython",
    "version": 3
   },
   "file_extension": ".py",
   "mimetype": "text/x-python",
   "name": "python",
   "nbconvert_exporter": "python",
   "pygments_lexer": "ipython3",
   "version": "3.8.3"
  }
 },
 "nbformat": 4,
 "nbformat_minor": 4
}
